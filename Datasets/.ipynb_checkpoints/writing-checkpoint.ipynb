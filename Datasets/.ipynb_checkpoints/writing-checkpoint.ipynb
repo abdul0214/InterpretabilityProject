{
 "cells": [
  {
   "cell_type": "code",
   "execution_count": 2,
   "metadata": {},
   "outputs": [],
   "source": [
    "import pandas as pd"
   ]
  },
  {
   "cell_type": "code",
   "execution_count": 7,
   "metadata": {},
   "outputs": [
    {
     "data": {
      "text/html": [
       "<div>\n",
       "<style scoped>\n",
       "    .dataframe tbody tr th:only-of-type {\n",
       "        vertical-align: middle;\n",
       "    }\n",
       "\n",
       "    .dataframe tbody tr th {\n",
       "        vertical-align: top;\n",
       "    }\n",
       "\n",
       "    .dataframe thead th {\n",
       "        text-align: right;\n",
       "    }\n",
       "</style>\n",
       "<table border=\"1\" class=\"dataframe\">\n",
       "  <thead>\n",
       "    <tr style=\"text-align: right;\">\n",
       "      <th></th>\n",
       "      <th>age</th>\n",
       "      <th>mets_achieved</th>\n",
       "      <th>resting_systolic</th>\n",
       "      <th>resting_diastolic</th>\n",
       "      <th>percent_hr_achieved</th>\n",
       "      <th>hyperlipid</th>\n",
       "      <th>famhx</th>\n",
       "      <th>black</th>\n",
       "      <th>newdm10</th>\n",
       "    </tr>\n",
       "  </thead>\n",
       "  <tbody>\n",
       "    <tr>\n",
       "      <th>0</th>\n",
       "      <td>61.051334</td>\n",
       "      <td>5.0</td>\n",
       "      <td>132</td>\n",
       "      <td>84</td>\n",
       "      <td>0.805031</td>\n",
       "      <td>No</td>\n",
       "      <td>No</td>\n",
       "      <td>0</td>\n",
       "      <td>1</td>\n",
       "    </tr>\n",
       "    <tr>\n",
       "      <th>1</th>\n",
       "      <td>58.888432</td>\n",
       "      <td>5.0</td>\n",
       "      <td>138</td>\n",
       "      <td>80</td>\n",
       "      <td>0.937888</td>\n",
       "      <td>No</td>\n",
       "      <td>Yes</td>\n",
       "      <td>1</td>\n",
       "      <td>1</td>\n",
       "    </tr>\n",
       "    <tr>\n",
       "      <th>2</th>\n",
       "      <td>44.646133</td>\n",
       "      <td>10.1</td>\n",
       "      <td>100</td>\n",
       "      <td>74</td>\n",
       "      <td>0.954286</td>\n",
       "      <td>Yes</td>\n",
       "      <td>Yes</td>\n",
       "      <td>0</td>\n",
       "      <td>1</td>\n",
       "    </tr>\n",
       "    <tr>\n",
       "      <th>3</th>\n",
       "      <td>67.548256</td>\n",
       "      <td>7.0</td>\n",
       "      <td>150</td>\n",
       "      <td>90</td>\n",
       "      <td>0.842105</td>\n",
       "      <td>Yes</td>\n",
       "      <td>No</td>\n",
       "      <td>0</td>\n",
       "      <td>1</td>\n",
       "    </tr>\n",
       "    <tr>\n",
       "      <th>4</th>\n",
       "      <td>42.967831</td>\n",
       "      <td>7.0</td>\n",
       "      <td>110</td>\n",
       "      <td>80</td>\n",
       "      <td>0.903955</td>\n",
       "      <td>No</td>\n",
       "      <td>Yes</td>\n",
       "      <td>0</td>\n",
       "      <td>0</td>\n",
       "    </tr>\n",
       "    <tr>\n",
       "      <th>...</th>\n",
       "      <td>...</td>\n",
       "      <td>...</td>\n",
       "      <td>...</td>\n",
       "      <td>...</td>\n",
       "      <td>...</td>\n",
       "      <td>...</td>\n",
       "      <td>...</td>\n",
       "      <td>...</td>\n",
       "      <td>...</td>\n",
       "    </tr>\n",
       "    <tr>\n",
       "      <th>16771</th>\n",
       "      <td>40.626968</td>\n",
       "      <td>10.1</td>\n",
       "      <td>110</td>\n",
       "      <td>70</td>\n",
       "      <td>0.921788</td>\n",
       "      <td>No</td>\n",
       "      <td>No</td>\n",
       "      <td>0</td>\n",
       "      <td>0</td>\n",
       "    </tr>\n",
       "    <tr>\n",
       "      <th>16772</th>\n",
       "      <td>52.273785</td>\n",
       "      <td>10.0</td>\n",
       "      <td>134</td>\n",
       "      <td>72</td>\n",
       "      <td>0.958333</td>\n",
       "      <td>Yes</td>\n",
       "      <td>No</td>\n",
       "      <td>0</td>\n",
       "      <td>1</td>\n",
       "    </tr>\n",
       "    <tr>\n",
       "      <th>16773</th>\n",
       "      <td>43.225189</td>\n",
       "      <td>10.1</td>\n",
       "      <td>136</td>\n",
       "      <td>84</td>\n",
       "      <td>0.988701</td>\n",
       "      <td>No</td>\n",
       "      <td>Yes</td>\n",
       "      <td>0</td>\n",
       "      <td>0</td>\n",
       "    </tr>\n",
       "    <tr>\n",
       "      <th>16774</th>\n",
       "      <td>37.681042</td>\n",
       "      <td>10.1</td>\n",
       "      <td>98</td>\n",
       "      <td>82</td>\n",
       "      <td>0.939560</td>\n",
       "      <td>No</td>\n",
       "      <td>No</td>\n",
       "      <td>0</td>\n",
       "      <td>0</td>\n",
       "    </tr>\n",
       "    <tr>\n",
       "      <th>16775</th>\n",
       "      <td>46.551678</td>\n",
       "      <td>7.0</td>\n",
       "      <td>146</td>\n",
       "      <td>98</td>\n",
       "      <td>0.919075</td>\n",
       "      <td>No</td>\n",
       "      <td>Yes</td>\n",
       "      <td>0</td>\n",
       "      <td>0</td>\n",
       "    </tr>\n",
       "  </tbody>\n",
       "</table>\n",
       "<p>16776 rows × 9 columns</p>\n",
       "</div>"
      ],
      "text/plain": [
       "             age  mets_achieved  resting_systolic  resting_diastolic  \\\n",
       "0      61.051334            5.0               132                 84   \n",
       "1      58.888432            5.0               138                 80   \n",
       "2      44.646133           10.1               100                 74   \n",
       "3      67.548256            7.0               150                 90   \n",
       "4      42.967831            7.0               110                 80   \n",
       "...          ...            ...               ...                ...   \n",
       "16771  40.626968           10.1               110                 70   \n",
       "16772  52.273785           10.0               134                 72   \n",
       "16773  43.225189           10.1               136                 84   \n",
       "16774  37.681042           10.1                98                 82   \n",
       "16775  46.551678            7.0               146                 98   \n",
       "\n",
       "       percent_hr_achieved hyperlipid famhx  black  newdm10  \n",
       "0                 0.805031         No    No      0        1  \n",
       "1                 0.937888         No   Yes      1        1  \n",
       "2                 0.954286        Yes   Yes      0        1  \n",
       "3                 0.842105        Yes    No      0        1  \n",
       "4                 0.903955         No   Yes      0        0  \n",
       "...                    ...        ...   ...    ...      ...  \n",
       "16771             0.921788         No    No      0        0  \n",
       "16772             0.958333        Yes    No      0        1  \n",
       "16773             0.988701         No   Yes      0        0  \n",
       "16774             0.939560         No    No      0        0  \n",
       "16775             0.919075         No   Yes      0        0  \n",
       "\n",
       "[16776 rows x 9 columns]"
      ]
     },
     "execution_count": 7,
     "metadata": {},
     "output_type": "execute_result"
    }
   ],
   "source": [
    "#=pd.load_csv(r'HTNcleanedl.csv')\n",
    "dataset = pd.read_csv(\"DiabetesCleaned.csv\", sep=None,engine='python')\n",
    "dataset"
   ]
  },
  {
   "cell_type": "code",
   "execution_count": 21,
   "metadata": {},
   "outputs": [
    {
     "data": {
      "text/plain": [
       "['age',\n",
       " 'mets_achieved',\n",
       " 'resting_systolic',\n",
       " 'resting_diastolic',\n",
       " 'percent_hr_achieved',\n",
       " 'hyperlipid',\n",
       " 'famhx',\n",
       " 'black']"
      ]
     },
     "execution_count": 21,
     "metadata": {},
     "output_type": "execute_result"
    }
   ],
   "source": [
    "#data = dataset[[dataset.columns.values.tolist().remove('newdm10')]]\n",
    "feature_names = dataset.columns.values.tolist()\n",
    "feature_names.remove('newdm10')\n",
    "feature_names"
   ]
  },
  {
   "cell_type": "code",
   "execution_count": 6,
   "metadata": {},
   "outputs": [
    {
     "data": {
      "text/plain": [
       "array([[61.051334, 5.0, 132, ..., 'No', 0, 1],\n",
       "       [58.888431999999995, 5.0, 138, ..., 'Yes', 1, 1],\n",
       "       [44.646133, 10.1, 100, ..., 'Yes', 0, 1],\n",
       "       ...,\n",
       "       [43.225189, 10.1, 136, ..., 'Yes', 0, 0],\n",
       "       [37.681042, 10.1, 98, ..., 'No', 0, 0],\n",
       "       [46.551678, 7.0, 146, ..., 'Yes', 0, 0]], dtype=object)"
      ]
     },
     "execution_count": 6,
     "metadata": {},
     "output_type": "execute_result"
    }
   ],
   "source": [
    "x = dataset.to_numpy()\n",
    "x"
   ]
  },
  {
   "cell_type": "code",
   "execution_count": 5,
   "metadata": {},
   "outputs": [],
   "source": [
    "def load_in_sklearn_format(filename,target_name):\n",
    "    from bunch import Bunch\n",
    "    import pandas as pd\n",
    "    dataset = pd.read_csv(filename, sep=None,engine='python')\n",
    "    dataset = pd.read_csv(filename, sep=None,engine='python')\n",
    "    object_columns = dataset.select_dtypes(include='object')\n",
    "    for column in object_columns :\n",
    "        dataset[column] = dataset[column].astype('category')\n",
    "    dataset=pd.get_dummies(dataset)\n",
    "    feature_names = dataset.columns.values.tolist()\n",
    "    feature_names.remove(target_name)\n",
    "    data = dataset[feature_names].to_numpy()\n",
    "    target = dataset[target_name].to_numpy()\n",
    "    \n",
    "    \n",
    "    return Bunch(data=data, target=target, feature_names = feature_names, target_names = target_name)\n"
   ]
  },
  {
   "cell_type": "code",
   "execution_count": 6,
   "metadata": {},
   "outputs": [],
   "source": [
    "x=load_in_sklearn_format('DiabetesCleaned.csv','newdm10')"
   ]
  },
  {
   "cell_type": "code",
   "execution_count": 11,
   "metadata": {},
   "outputs": [],
   "source": [
    "data=x.data"
   ]
  },
  {
   "cell_type": "code",
   "execution_count": 12,
   "metadata": {},
   "outputs": [],
   "source": [
    "data = x.data\n",
    "feature_names = x.feature_names\n",
    "y = x.target"
   ]
  },
  {
   "cell_type": "code",
   "execution_count": 13,
   "metadata": {},
   "outputs": [],
   "source": [
    "from int_met import *"
   ]
  },
  {
   "cell_type": "code",
   "execution_count": null,
   "metadata": {},
   "outputs": [],
   "source": [
    "import numpy as np\n",
    "from sklearn.ensemble import RandomForestClassifier\n",
    "from sklearn.tree import DecisionTreeClassifier\n",
    "model = RandomForestClassifier()\n",
    "#model=DecisionTreeClassifier()\n"
   ]
  }
 ],
 "metadata": {
  "kernelspec": {
   "display_name": "Python 3",
   "language": "python",
   "name": "python3"
  },
  "language_info": {
   "codemirror_mode": {
    "name": "ipython",
    "version": 3
   },
   "file_extension": ".py",
   "mimetype": "text/x-python",
   "name": "python",
   "nbconvert_exporter": "python",
   "pygments_lexer": "ipython3",
   "version": "3.8.2"
  }
 },
 "nbformat": 4,
 "nbformat_minor": 4
}
