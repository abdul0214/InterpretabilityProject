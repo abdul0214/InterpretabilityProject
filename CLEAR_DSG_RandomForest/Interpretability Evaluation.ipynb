{
 "cells": [
  {
   "cell_type": "code",
   "execution_count": 9,
   "metadata": {},
   "outputs": [],
   "source": [
    "import numpy as np\n",
    "from CLEAR_Interface import RUN_CLEAR as CLEAR\n",
    "from int_met import * #(from:  https://github.com/Mo-youssef/interpretability/blob/master/int_met.py)\n"
   ]
  },
  {
   "cell_type": "code",
   "execution_count": 10,
   "metadata": {},
   "outputs": [
    {
     "name": "stdout",
     "output_type": "stream",
     "text": [
      "Pre-processing \n",
      "\n",
      "Accuracy statistics for Random Forest to be explained \n",
      "\n",
      "0.9534883720930233\n",
      "\n",
      " Performing grid search - step 1 of CLEAR method \n",
      "\n",
      "Performing step-wise regressions \n",
      "\n",
      "Processed observation 1\n",
      "Pre-processing \n",
      "\n",
      "Accuracy statistics for Random Forest to be explained \n",
      "\n",
      "0.9534883720930233\n",
      "\n",
      " Performing grid search - step 1 of CLEAR method \n",
      "\n",
      "Performing step-wise regressions \n",
      "\n",
      "Processed observation 2\n"
     ]
    }
   ],
   "source": [
    "n_obs_test=2\n",
    "results1,time1,test_data1=CLEAR('BreastC',1,n_obs_test)\n",
    "#results2,time2,test_data2=CLEAR.run_Clear('BreastC',1,n_obs_test)"
   ]
  },
  {
   "cell_type": "code",
   "execution_count": 11,
   "metadata": {},
   "outputs": [
    {
     "name": "stdout",
     "output_type": "stream",
     "text": [
      "(2, 15)\n"
     ]
    }
   ],
   "source": [
    "def get_coefs(results):\n",
    "    weights=[]\n",
    "    for result in results:\n",
    "        weights = weights + [np.insert(results1[0].weights.tolist()[0],0,result.intercept.tolist()[0]).tolist()]\n",
    "    return weights\n",
    "\n",
    "print(np.shape(get_coefs(results1)))"
   ]
  },
  {
   "cell_type": "code",
   "execution_count": 12,
   "metadata": {},
   "outputs": [],
   "source": [
    "y_test=np.asarray(test_data1[1].tolist()[0:n_obs_test])\n",
    "X_test=test_data1[0][0:n_obs_test]\n",
    "coefs1 = get_coefs(results1)\n",
    "coefs1 = np.array(coefs1)\n",
    "#coefs2 = get_coefs(results2)\n",
    "#coefs2=[float(results2.intercept)]+results2.weights.tolist()[0].tolist()"
   ]
  },
  {
   "cell_type": "code",
   "execution_count": 13,
   "metadata": {},
   "outputs": [
    {
     "ename": "NameError",
     "evalue": "name 'coefs2' is not defined",
     "output_type": "error",
     "traceback": [
      "\u001b[0;31m---------------------------------------------------------------------------\u001b[0m",
      "\u001b[0;31mNameError\u001b[0m                                 Traceback (most recent call last)",
      "\u001b[0;32m<ipython-input-13-070f2055bb82>\u001b[0m in \u001b[0;36m<module>\u001b[0;34m\u001b[0m\n\u001b[0;32m----> 1\u001b[0;31m \u001b[0midentity_score\u001b[0m \u001b[0;34m=\u001b[0m \u001b[0mcalc_identity\u001b[0m\u001b[0;34m(\u001b[0m\u001b[0mcoefs1\u001b[0m\u001b[0;34m,\u001b[0m \u001b[0mcoefs2\u001b[0m\u001b[0;34m)\u001b[0m\u001b[0;34m\u001b[0m\u001b[0;34m\u001b[0m\u001b[0m\n\u001b[0m\u001b[1;32m      2\u001b[0m \u001b[0mprint\u001b[0m\u001b[0;34m(\u001b[0m\u001b[0;34m\"Identity Metric Scores for CLEAR: \"\u001b[0m\u001b[0;34m,\u001b[0m \u001b[0midentity_score\u001b[0m\u001b[0;34m)\u001b[0m\u001b[0;34m\u001b[0m\u001b[0;34m\u001b[0m\u001b[0m\n",
      "\u001b[0;31mNameError\u001b[0m: name 'coefs2' is not defined"
     ]
    }
   ],
   "source": [
    "identity_score = calc_identity(coefs1, coefs2)\n",
    "print(\"Identity Metric Scores for CLEAR: \", identity_score)"
   ]
  },
  {
   "cell_type": "code",
   "execution_count": 22,
   "metadata": {},
   "outputs": [
    {
     "name": "stdout",
     "output_type": "stream",
     "text": [
      "labels [0 1]\n",
      "label_values [0 1]\n",
      "exp [[ 0.4607293  -0.0354308   0.00676099  0.25735907 -0.04399231  0.0971242\n",
      "   0.1125065   0.02294014  0.0819772   0.20133953  0.03945048 -0.11132151\n",
      "  -0.06482894  0.04656462  0.03848108]\n",
      " [ 0.3483515  -0.0354308   0.00676099  0.25735907 -0.04399231  0.0971242\n",
      "   0.1125065   0.02294014  0.0819772   0.20133953  0.03945048 -0.11132151\n",
      "  -0.06482894  0.04656462  0.03848108]]\n"
     ]
    },
    {
     "name": "stderr",
     "output_type": "stream",
     "text": [
      "/home/abdul/anaconda3/envs/BDA/lib/python3.7/site-packages/ipykernel_launcher.py:11: RuntimeWarning: Explicit initial center position passed: performing only one init in k-means instead of n_init=10\n",
      "  # This is added back by InteractiveShellApp.init_path()\n"
     ]
    },
    {
     "name": "stdout",
     "output_type": "stream",
     "text": [
      "(0, 2)\n"
     ]
    }
   ],
   "source": [
    "print(calc_stability2(coefs1, y_test))"
   ]
  },
  {
   "cell_type": "code",
   "execution_count": 19,
   "metadata": {},
   "outputs": [
    {
     "name": "stdout",
     "output_type": "stream",
     "text": [
      "(2, 0, 100.0)\n"
     ]
    }
   ],
   "source": [
    "print(calc_separability(X_test,coefs1))"
   ]
  },
  {
   "cell_type": "code",
   "execution_count": 26,
   "metadata": {},
   "outputs": [
    {
     "data": {
      "text/plain": [
       "array([[ 0.4607293 , -0.0354308 ,  0.00676099,  0.25735907, -0.04399231,\n",
       "         0.0971242 ,  0.1125065 ,  0.02294014,  0.0819772 ,  0.20133953,\n",
       "         0.03945048, -0.11132151, -0.06482894,  0.04656462,  0.03848108],\n",
       "       [ 0.3483515 , -0.0354308 ,  0.00676099,  0.25735907, -0.04399231,\n",
       "         0.0971242 ,  0.1125065 ,  0.02294014,  0.0819772 ,  0.20133953,\n",
       "         0.03945048, -0.11132151, -0.06482894,  0.04656462,  0.03848108]])"
      ]
     },
     "execution_count": 26,
     "metadata": {},
     "output_type": "execute_result"
    }
   ],
   "source": [
    "coefs1"
   ]
  },
  {
   "cell_type": "code",
   "execution_count": 14,
   "metadata": {},
   "outputs": [
    {
     "data": {
      "text/plain": [
       "array([0, 1])"
      ]
     },
     "execution_count": 14,
     "metadata": {},
     "output_type": "execute_result"
    }
   ],
   "source": [
    "y_test"
   ]
  },
  {
   "cell_type": "code",
   "execution_count": 21,
   "metadata": {},
   "outputs": [],
   "source": [
    "def calc_stability2(exp, labels):\n",
    "    total = labels.shape[0]\n",
    "    label_values = np.unique(labels)\n",
    "    print(\"labels\", labels)\n",
    "\n",
    "    print(\"label_values\", label_values)\n",
    "    print(\"exp\", exp)\n",
    "    n_clusters = label_values.shape[0]\n",
    "    init = np.array([[np.average(exp[np.where(labels == i)], axis = 0)] for i in label_values]).squeeze()\n",
    "    ct = sklearn.cluster.KMeans(n_clusters = n_clusters, n_jobs=5, random_state=1, n_init=10, init = init)\n",
    "    ct.fit(exp)\n",
    "    error = np.sum(np.abs(labels-ct.labels_))\n",
    "    if error/total > 0.5:\n",
    "        error = total-error\n",
    "    return error, total"
   ]
  },
  {
   "cell_type": "code",
   "execution_count": null,
   "metadata": {},
   "outputs": [],
   "source": []
  }
 ],
 "metadata": {
  "kernelspec": {
   "display_name": "Python 3",
   "language": "python",
   "name": "python3"
  },
  "language_info": {
   "codemirror_mode": {
    "name": "ipython",
    "version": 3
   },
   "file_extension": ".py",
   "mimetype": "text/x-python",
   "name": "python",
   "nbconvert_exporter": "python",
   "pygments_lexer": "ipython3",
   "version": "3.8.2"
  }
 },
 "nbformat": 4,
 "nbformat_minor": 2
}
