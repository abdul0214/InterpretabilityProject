{
 "cells": [
  {
   "cell_type": "code",
   "execution_count": 7,
   "metadata": {},
   "outputs": [],
   "source": [
    "def load_my_dataset(filename,target_column):\n",
    "    import pandas as pd\n",
    "    with open(filename) as csv_file:\n",
    "        data_file = csv.reader(csv_file)\n",
    "        dataset = pd.read_csv(filename, sep=None,engine='python')\n",
    "        temp = next(data_file)\n",
    "        n_samples = dataset.shape[0]\n",
    "        n_features =  len(dataset.column.values.tolist())-1\n",
    "        feature_names = dataset.columns.values.tolist()\n",
    "        feature_names.remove(target_column)\n",
    "        target_names = [target_column]\n",
    "        data = np.empty((n_samples, n_features))\n",
    "        target = np.empty((n_samples,), dtype=np.int)\n",
    "        object_columns = dataset.select_dtypes(include='object')\n",
    "        for column in object_columns :\n",
    "            dataset[column] = dataset[column].astype('category')\n",
    "        dataset = pd.get_dummies(dataset)\n",
    "        for i, sample in enumerate(data_file):\n",
    "            data[i] = np.asarray(sample[:-1], dtype=np.float64)\n",
    "            target[i] = np.asarray(sample[-1], dtype=np.int)\n",
    "\n",
    "    return Bunch(data=data, target=target, feature_names = feature_names, target_names = target_names)\n",
    "\n",
    "#data = load_my_dataset()"
   ]
  },
  {
   "cell_type": "code",
   "execution_count": null,
   "metadata": {},
   "outputs": [],
   "source": []
  }
 ],
 "metadata": {
  "kernelspec": {
   "display_name": "Python 3",
   "language": "python",
   "name": "python3"
  },
  "language_info": {
   "codemirror_mode": {
    "name": "ipython",
    "version": 3
   },
   "file_extension": ".py",
   "mimetype": "text/x-python",
   "name": "python",
   "nbconvert_exporter": "python",
   "pygments_lexer": "ipython3",
   "version": "3.8.2"
  }
 },
 "nbformat": 4,
 "nbformat_minor": 4
}
