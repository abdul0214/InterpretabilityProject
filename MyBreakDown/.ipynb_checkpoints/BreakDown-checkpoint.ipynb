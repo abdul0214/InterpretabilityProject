{
 "cells": [
  {
   "cell_type": "code",
   "execution_count": 30,
   "metadata": {},
   "outputs": [],
   "source": [
    "from sklearn import datasets\n",
    "import pandas as pd\n",
    "from int_met import *"
   ]
  },
  {
   "cell_type": "code",
   "execution_count": 31,
   "metadata": {},
   "outputs": [],
   "source": [
    "x = datasets.load_breast_cancer()\n",
    "#x=pd.read_csv('Breast cancer.csv')  "
   ]
  },
  {
   "cell_type": "code",
   "execution_count": 32,
   "metadata": {},
   "outputs": [],
   "source": [
    "data = x.data\n",
    "feature_names = x.feature_names\n",
    "y = x.target"
   ]
  },
  {
   "cell_type": "code",
   "execution_count": 33,
   "metadata": {},
   "outputs": [],
   "source": [
    "import numpy as np\n",
    "from sklearn.ensemble import RandomForestClassifier\n",
    "from sklearn.tree import DecisionTreeClassifier\n",
    "model = RandomForestClassifier()\n",
    "#model=DecisionTreeClassifier()\n"
   ]
  },
  {
   "cell_type": "code",
   "execution_count": 34,
   "metadata": {},
   "outputs": [],
   "source": [
    "train_data = data[1:300,:]\n",
    "train_labels=y[1:300]\n",
    "test_data = data[301:505,:]\n",
    "test_labels=y[301:505]"
   ]
  },
  {
   "cell_type": "code",
   "execution_count": 35,
   "metadata": {},
   "outputs": [],
   "source": [
    "model = model.fit(train_data,y=train_labels)"
   ]
  },
  {
   "cell_type": "code",
   "execution_count": 36,
   "metadata": {},
   "outputs": [
    {
     "data": {
      "text/plain": [
       "array([1, 0, 1, 1, 1, 1, 1, 1, 1, 1, 1, 1, 1, 1, 1, 1, 0, 1, 1, 1, 0, 1,\n",
       "       0, 1, 1, 1, 1, 0, 0, 0, 1, 1, 1, 1, 0, 1, 0, 1, 0, 0, 1, 1, 0, 1,\n",
       "       1, 1, 1, 1, 1, 1, 0, 0, 0, 1, 1, 1, 1, 1, 1, 1, 1, 1, 0, 1, 0, 0,\n",
       "       1, 0, 0, 0, 1, 0, 0, 1, 0, 1, 1, 1, 0, 1, 1, 1, 1, 1, 1, 1, 1, 1,\n",
       "       0, 1, 1, 0, 0, 1, 1, 1, 1, 1, 1, 0, 1, 1, 1, 1, 1, 0, 1, 0, 1, 1,\n",
       "       1, 1, 0, 1, 1, 1, 0, 1, 1, 1, 0, 1, 1, 1, 1, 1, 1, 1, 1, 0, 1, 0,\n",
       "       0, 1, 0, 1, 1, 1, 1, 1, 0, 1, 1, 0, 1, 0, 1, 1, 0, 1, 0, 1, 1, 1,\n",
       "       1, 1, 1, 1, 1, 0, 0, 1, 1, 1, 0, 1, 1, 0, 1, 1, 1, 1, 1, 1, 1, 0,\n",
       "       1, 1, 0, 1, 1, 1, 1, 0, 1, 1, 0, 1, 0, 1, 1, 0, 1, 1, 1, 1, 1, 0,\n",
       "       0, 1, 0, 1, 0, 1])"
      ]
     },
     "execution_count": 36,
     "metadata": {},
     "output_type": "execute_result"
    }
   ],
   "source": [
    "from sklearn.metrics import f1_score\n",
    "y_pred = model.predict(test_data)\n",
    "error = f1_score(test_labels,y_pred) \n",
    "error\n",
    "y_pred"
   ]
  },
  {
   "cell_type": "code",
   "execution_count": 37,
   "metadata": {
    "scrolled": true
   },
   "outputs": [],
   "source": [
    "#necessary imports\n",
    "from pyBreakDown.explainer import Explainer\n",
    "from pyBreakDown.explanation import Explanation"
   ]
  },
  {
   "cell_type": "code",
   "execution_count": 38,
   "metadata": {},
   "outputs": [],
   "source": [
    "exp = Explainer(clf=model, data=train_data, colnames=feature_names)"
   ]
  },
  {
   "cell_type": "code",
   "execution_count": 39,
   "metadata": {},
   "outputs": [],
   "source": [
    "def run_PyBreakDown(model,data,observations,colnames):\n",
    "    explanations=[]\n",
    "    y=[]\n",
    "    from pyBreakDown.explainer import Explainer\n",
    "    from pyBreakDown.explanation import Explanation\n",
    "    from math import exp as e\n",
    "    exp = Explainer(clf=model, data=data, colnames=feature_names)\n",
    "    if observations.ndim==1:\n",
    "        explanation = exp.explain(observation=observations,direction=\"up\")\n",
    "        pred=explanation._final_prediction\n",
    "        pred=round((e(pred)/(1+e(pred))))\n",
    "        y.append(pred)\n",
    "        explanations.append(explanation)\n",
    "    else:\n",
    "        for i in range(0,len(observations)):\n",
    "            observation = observations[i]\n",
    "            explanation = exp.explain(observation=observation,direction=\"up\")\n",
    "            pred=explanation._final_prediction\n",
    "            pred=round((e(pred)/(1+e(pred))))\n",
    "            y.append(pred)\n",
    "            explanations.append(explanation)\n",
    "    return explanations,y"
   ]
  },
  {
   "cell_type": "code",
   "execution_count": 40,
   "metadata": {},
   "outputs": [],
   "source": [
    "def get_Coefs(explanations):\n",
    "    coefs=[]\n",
    "    for explanation in explanations:\n",
    "        coef=[]\n",
    "        for feature in explanation._attributes:\n",
    "            coef.append(feature.contribution)\n",
    "        coefs.append(coef)\n",
    "    return coefs"
   ]
  },
  {
   "cell_type": "code",
   "execution_count": 96,
   "metadata": {},
   "outputs": [],
   "source": [
    "explanations1,y1 = run_PyBreakDown(model=model,data=train_data,observations=data[500:569,:],colnames=feature_names)\n",
    "explanations2,y2 = run_PyBreakDown(model=model,data=train_data,observations=data[500:569,:],colnames=feature_names)"
   ]
  },
  {
   "cell_type": "code",
   "execution_count": 97,
   "metadata": {},
   "outputs": [],
   "source": [
    "coefs1 = get_Coefs(explanations1)\n",
    "coefs2 = get_Coefs(explanations2)\n",
    "y_test = y[500:569]\n",
    "X_test = data[500:569,:]"
   ]
  },
  {
   "cell_type": "code",
   "execution_count": 43,
   "metadata": {},
   "outputs": [
    {
     "data": {
      "text/plain": [
       "(0.0, 19, 19)"
      ]
     },
     "execution_count": 43,
     "metadata": {},
     "output_type": "execute_result"
    }
   ],
   "source": [
    "calc_identity(coefs1,coefs2)"
   ]
  },
  {
   "cell_type": "code",
   "execution_count": 44,
   "metadata": {},
   "outputs": [
    {
     "name": "stderr",
     "output_type": "stream",
     "text": [
      "/home/abdul/Desktop/interp/XAI-SPRING2020/MyBreakDown/int_met.py:60: RuntimeWarning: Explicit initial center position passed: performing only one init in k-means instead of n_init=10\n",
      "  ct.fit(exp)\n"
     ]
    },
    {
     "data": {
      "text/plain": [
       "(0, 19)"
      ]
     },
     "execution_count": 44,
     "metadata": {},
     "output_type": "execute_result"
    }
   ],
   "source": [
    "calc_stability(coefs1, y_test)"
   ]
  },
  {
   "cell_type": "code",
   "execution_count": 45,
   "metadata": {},
   "outputs": [
    {
     "data": {
      "text/plain": [
       "(19, 8, 57.89473684210527)"
      ]
     },
     "execution_count": 45,
     "metadata": {},
     "output_type": "execute_result"
    }
   ],
   "source": [
    "calc_separability(X_test, coefs1)"
   ]
  },
  {
   "cell_type": "code",
   "execution_count": 46,
   "metadata": {},
   "outputs": [
    {
     "data": {
      "text/plain": [
       "0.7266553480475382"
      ]
     },
     "execution_count": 46,
     "metadata": {},
     "output_type": "execute_result"
    }
   ],
   "source": [
    "calc_compactness(coefs1)"
   ]
  },
  {
   "cell_type": "code",
   "execution_count": 47,
   "metadata": {},
   "outputs": [],
   "source": [
    "from sklearn.metrics.pairwise import euclidean_distances\n"
   ]
  },
  {
   "cell_type": "code",
   "execution_count": 131,
   "metadata": {},
   "outputs": [
    {
     "name": "stdout",
     "output_type": "stream",
     "text": [
      "Cluster -1 indexes_of_cluster [ 0  1  2  3  4  5  6  7  8  9 10 11 12 13 14 15 16 17 18 19 20 21 22 23\n",
      " 24 25 26 27 28 29 30 31 32 33 34 35 36 37 38 39 40 41 42 43 44 45 46 47\n",
      " 48 49 50 51 52 53 54 55 56 57 58 59 60 61 62 63 64 65 66 67 68]\n"
     ]
    },
    {
     "data": {
      "text/plain": [
       "0.7064904501905525"
      ]
     },
     "execution_count": 131,
     "metadata": {},
     "output_type": "execute_result"
    }
   ],
   "source": [
    "def calc_similarity(coefs1,X_test):\n",
    "    from sklearn.preprocessing import normalize\n",
    "    from sklearn.cluster import DBSCAN\n",
    "    from sklearn.metrics.pairwise import euclidean_distances\n",
    "    from sklearn import preprocessing \n",
    "    import numpy as np\n",
    "    X_test = preprocessing.normalize(X_test, norm='l2')\n",
    "    coefs1 = preprocessing.normalize(coefs1, norm='l2')\n",
    "    clustering = DBSCAN(eps=0.02,min_samples=2).fit(X_test)\n",
    "    cluster_labels = clustering.labels_\n",
    "    unique_labels=np.unique(cluster_labels)\n",
    "    mean_distances=[]\n",
    "    for cluster in unique_labels:\n",
    "        indexes_of_cluster=np.where(cluster_labels == cluster)[0]\n",
    "        print(\"Cluster\", cluster, \"indexes_of_cluster\",indexes_of_cluster)\n",
    "        exps_of_cluster = [coefs1[i] for i in indexes_of_cluster] \n",
    "        mean_distances.append(np.average(euclidean_distances(exps_of_cluster)))\n",
    "        \n",
    "    return np.average(mean_distances)\n",
    "        \n",
    "calc_similarity(coefs1,X_test)"
   ]
  },
  {
   "cell_type": "code",
   "execution_count": 66,
   "metadata": {},
   "outputs": [
    {
     "name": "stdout",
     "output_type": "stream",
     "text": [
      "Cluster 0 indexes_of_cluster [0]\n",
      "Cluster 1 indexes_of_cluster [1]\n",
      "Cluster 2 indexes_of_cluster [2]\n",
      "Cluster 3 indexes_of_cluster [3]\n",
      "Cluster 4 indexes_of_cluster [4]\n",
      "Cluster 5 indexes_of_cluster [5]\n",
      "Cluster 6 indexes_of_cluster [6]\n",
      "Cluster 7 indexes_of_cluster [7]\n",
      "Cluster 8 indexes_of_cluster [8]\n",
      "Cluster 9 indexes_of_cluster [9]\n",
      "Cluster 10 indexes_of_cluster [10]\n",
      "Cluster 11 indexes_of_cluster [11]\n",
      "Cluster 12 indexes_of_cluster [12]\n",
      "Cluster 13 indexes_of_cluster [13]\n",
      "Cluster 14 indexes_of_cluster [14]\n",
      "Cluster 15 indexes_of_cluster [15]\n",
      "Cluster 16 indexes_of_cluster [16]\n",
      "Cluster 17 indexes_of_cluster [17]\n",
      "Cluster 18 indexes_of_cluster [18]\n"
     ]
    }
   ],
   "source": []
  },
  {
   "cell_type": "code",
   "execution_count": null,
   "metadata": {},
   "outputs": [],
   "source": []
  }
 ],
 "metadata": {
  "kernelspec": {
   "display_name": "Python 3",
   "language": "python",
   "name": "python3"
  },
  "language_info": {
   "codemirror_mode": {
    "name": "ipython",
    "version": 3
   },
   "file_extension": ".py",
   "mimetype": "text/x-python",
   "name": "python",
   "nbconvert_exporter": "python",
   "pygments_lexer": "ipython3",
   "version": "3.8.2"
  }
 },
 "nbformat": 4,
 "nbformat_minor": 4
}
