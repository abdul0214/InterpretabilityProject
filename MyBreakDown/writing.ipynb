{
 "cells": [
  {
   "cell_type": "code",
   "execution_count": 1,
   "metadata": {},
   "outputs": [],
   "source": [
    "import pandas as pd"
   ]
  },
  {
   "cell_type": "code",
   "execution_count": 2,
   "metadata": {},
   "outputs": [
    {
     "data": {
      "text/html": [
       "<div>\n",
       "<style scoped>\n",
       "    .dataframe tbody tr th:only-of-type {\n",
       "        vertical-align: middle;\n",
       "    }\n",
       "\n",
       "    .dataframe tbody tr th {\n",
       "        vertical-align: top;\n",
       "    }\n",
       "\n",
       "    .dataframe thead th {\n",
       "        text-align: right;\n",
       "    }\n",
       "</style>\n",
       "<table border=\"1\" class=\"dataframe\">\n",
       "  <thead>\n",
       "    <tr style=\"text-align: right;\">\n",
       "      <th></th>\n",
       "      <th>age</th>\n",
       "      <th>mets_achieved</th>\n",
       "      <th>resting_systolic</th>\n",
       "      <th>resting_diastolic</th>\n",
       "      <th>percent_hr_achieved</th>\n",
       "      <th>hyperlipid</th>\n",
       "      <th>famhx</th>\n",
       "      <th>black</th>\n",
       "      <th>newdm10</th>\n",
       "    </tr>\n",
       "  </thead>\n",
       "  <tbody>\n",
       "    <tr>\n",
       "      <th>0</th>\n",
       "      <td>61.051334</td>\n",
       "      <td>5.0</td>\n",
       "      <td>132</td>\n",
       "      <td>84</td>\n",
       "      <td>0.805031</td>\n",
       "      <td>No</td>\n",
       "      <td>No</td>\n",
       "      <td>0</td>\n",
       "      <td>1</td>\n",
       "    </tr>\n",
       "    <tr>\n",
       "      <th>1</th>\n",
       "      <td>58.888432</td>\n",
       "      <td>5.0</td>\n",
       "      <td>138</td>\n",
       "      <td>80</td>\n",
       "      <td>0.937888</td>\n",
       "      <td>No</td>\n",
       "      <td>Yes</td>\n",
       "      <td>1</td>\n",
       "      <td>1</td>\n",
       "    </tr>\n",
       "    <tr>\n",
       "      <th>2</th>\n",
       "      <td>44.646133</td>\n",
       "      <td>10.1</td>\n",
       "      <td>100</td>\n",
       "      <td>74</td>\n",
       "      <td>0.954286</td>\n",
       "      <td>Yes</td>\n",
       "      <td>Yes</td>\n",
       "      <td>0</td>\n",
       "      <td>1</td>\n",
       "    </tr>\n",
       "    <tr>\n",
       "      <th>3</th>\n",
       "      <td>67.548256</td>\n",
       "      <td>7.0</td>\n",
       "      <td>150</td>\n",
       "      <td>90</td>\n",
       "      <td>0.842105</td>\n",
       "      <td>Yes</td>\n",
       "      <td>No</td>\n",
       "      <td>0</td>\n",
       "      <td>1</td>\n",
       "    </tr>\n",
       "    <tr>\n",
       "      <th>4</th>\n",
       "      <td>42.967831</td>\n",
       "      <td>7.0</td>\n",
       "      <td>110</td>\n",
       "      <td>80</td>\n",
       "      <td>0.903955</td>\n",
       "      <td>No</td>\n",
       "      <td>Yes</td>\n",
       "      <td>0</td>\n",
       "      <td>0</td>\n",
       "    </tr>\n",
       "    <tr>\n",
       "      <th>...</th>\n",
       "      <td>...</td>\n",
       "      <td>...</td>\n",
       "      <td>...</td>\n",
       "      <td>...</td>\n",
       "      <td>...</td>\n",
       "      <td>...</td>\n",
       "      <td>...</td>\n",
       "      <td>...</td>\n",
       "      <td>...</td>\n",
       "    </tr>\n",
       "    <tr>\n",
       "      <th>16771</th>\n",
       "      <td>40.626968</td>\n",
       "      <td>10.1</td>\n",
       "      <td>110</td>\n",
       "      <td>70</td>\n",
       "      <td>0.921788</td>\n",
       "      <td>No</td>\n",
       "      <td>No</td>\n",
       "      <td>0</td>\n",
       "      <td>0</td>\n",
       "    </tr>\n",
       "    <tr>\n",
       "      <th>16772</th>\n",
       "      <td>52.273785</td>\n",
       "      <td>10.0</td>\n",
       "      <td>134</td>\n",
       "      <td>72</td>\n",
       "      <td>0.958333</td>\n",
       "      <td>Yes</td>\n",
       "      <td>No</td>\n",
       "      <td>0</td>\n",
       "      <td>1</td>\n",
       "    </tr>\n",
       "    <tr>\n",
       "      <th>16773</th>\n",
       "      <td>43.225189</td>\n",
       "      <td>10.1</td>\n",
       "      <td>136</td>\n",
       "      <td>84</td>\n",
       "      <td>0.988701</td>\n",
       "      <td>No</td>\n",
       "      <td>Yes</td>\n",
       "      <td>0</td>\n",
       "      <td>0</td>\n",
       "    </tr>\n",
       "    <tr>\n",
       "      <th>16774</th>\n",
       "      <td>37.681042</td>\n",
       "      <td>10.1</td>\n",
       "      <td>98</td>\n",
       "      <td>82</td>\n",
       "      <td>0.939560</td>\n",
       "      <td>No</td>\n",
       "      <td>No</td>\n",
       "      <td>0</td>\n",
       "      <td>0</td>\n",
       "    </tr>\n",
       "    <tr>\n",
       "      <th>16775</th>\n",
       "      <td>46.551678</td>\n",
       "      <td>7.0</td>\n",
       "      <td>146</td>\n",
       "      <td>98</td>\n",
       "      <td>0.919075</td>\n",
       "      <td>No</td>\n",
       "      <td>Yes</td>\n",
       "      <td>0</td>\n",
       "      <td>0</td>\n",
       "    </tr>\n",
       "  </tbody>\n",
       "</table>\n",
       "<p>16776 rows × 9 columns</p>\n",
       "</div>"
      ],
      "text/plain": [
       "             age  mets_achieved  resting_systolic  resting_diastolic  \\\n",
       "0      61.051334            5.0               132                 84   \n",
       "1      58.888432            5.0               138                 80   \n",
       "2      44.646133           10.1               100                 74   \n",
       "3      67.548256            7.0               150                 90   \n",
       "4      42.967831            7.0               110                 80   \n",
       "...          ...            ...               ...                ...   \n",
       "16771  40.626968           10.1               110                 70   \n",
       "16772  52.273785           10.0               134                 72   \n",
       "16773  43.225189           10.1               136                 84   \n",
       "16774  37.681042           10.1                98                 82   \n",
       "16775  46.551678            7.0               146                 98   \n",
       "\n",
       "       percent_hr_achieved hyperlipid famhx  black  newdm10  \n",
       "0                 0.805031         No    No      0        1  \n",
       "1                 0.937888         No   Yes      1        1  \n",
       "2                 0.954286        Yes   Yes      0        1  \n",
       "3                 0.842105        Yes    No      0        1  \n",
       "4                 0.903955         No   Yes      0        0  \n",
       "...                    ...        ...   ...    ...      ...  \n",
       "16771             0.921788         No    No      0        0  \n",
       "16772             0.958333        Yes    No      0        1  \n",
       "16773             0.988701         No   Yes      0        0  \n",
       "16774             0.939560         No    No      0        0  \n",
       "16775             0.919075         No   Yes      0        0  \n",
       "\n",
       "[16776 rows x 9 columns]"
      ]
     },
     "execution_count": 2,
     "metadata": {},
     "output_type": "execute_result"
    }
   ],
   "source": [
    "#=pd.load_csv(r'HTNcleanedl.csv')\n",
    "dataset = pd.read_csv(\"DiabetesCleaned.csv\", sep=None,engine='python')\n",
    "dataset"
   ]
  },
  {
   "cell_type": "code",
   "execution_count": 3,
   "metadata": {},
   "outputs": [
    {
     "data": {
      "text/plain": [
       "['age',\n",
       " 'mets_achieved',\n",
       " 'resting_systolic',\n",
       " 'resting_diastolic',\n",
       " 'percent_hr_achieved',\n",
       " 'hyperlipid',\n",
       " 'famhx',\n",
       " 'black']"
      ]
     },
     "execution_count": 3,
     "metadata": {},
     "output_type": "execute_result"
    }
   ],
   "source": [
    "#data = dataset[[dataset.columns.values.tolist().remove('newdm10')]]\n",
    "feature_names = dataset.columns.values.tolist()\n",
    "feature_names.remove('newdm10')\n",
    "feature_names"
   ]
  },
  {
   "cell_type": "code",
   "execution_count": 4,
   "metadata": {},
   "outputs": [
    {
     "data": {
      "text/plain": [
       "array([[61.051334, 5.0, 132, ..., 'No', 0, 1],\n",
       "       [58.888431999999995, 5.0, 138, ..., 'Yes', 1, 1],\n",
       "       [44.646133, 10.1, 100, ..., 'Yes', 0, 1],\n",
       "       ...,\n",
       "       [43.225189, 10.1, 136, ..., 'Yes', 0, 0],\n",
       "       [37.681042, 10.1, 98, ..., 'No', 0, 0],\n",
       "       [46.551678, 7.0, 146, ..., 'Yes', 0, 0]], dtype=object)"
      ]
     },
     "execution_count": 4,
     "metadata": {},
     "output_type": "execute_result"
    }
   ],
   "source": [
    "x = dataset.to_numpy()\n",
    "x"
   ]
  },
  {
   "cell_type": "code",
   "execution_count": 5,
   "metadata": {},
   "outputs": [],
   "source": [
    "def load_in_sklearn_format(filename,target_name):\n",
    "    from bunch import Bunch\n",
    "    import pandas as pd\n",
    "    dataset = pd.read_csv(filename, sep=None,engine='python')\n",
    "    dataset = pd.read_csv(filename, sep=None,engine='python')\n",
    "    object_columns = dataset.select_dtypes(include='object')\n",
    "    for column in object_columns :\n",
    "        dataset[column] = dataset[column].astype('category')\n",
    "    dataset=pd.get_dummies(dataset)\n",
    "    feature_names = dataset.columns.values.tolist()\n",
    "    feature_names.remove(target_name)\n",
    "    data = dataset[feature_names].to_numpy()\n",
    "    target = dataset[target_name].to_numpy()\n",
    "    \n",
    "    \n",
    "    return Bunch(data=data, target=target, feature_names = feature_names, target_names = target_name)\n"
   ]
  },
  {
   "cell_type": "code",
   "execution_count": 6,
   "metadata": {},
   "outputs": [],
   "source": [
    "x=load_in_sklearn_format('DiabetesCleaned.csv','newdm10')"
   ]
  },
  {
   "cell_type": "code",
   "execution_count": 7,
   "metadata": {},
   "outputs": [],
   "source": [
    "data=x.data"
   ]
  },
  {
   "cell_type": "code",
   "execution_count": 8,
   "metadata": {},
   "outputs": [],
   "source": [
    "data = x.data\n",
    "feature_names = x.feature_names\n",
    "y = x.target"
   ]
  },
  {
   "cell_type": "code",
   "execution_count": 9,
   "metadata": {},
   "outputs": [],
   "source": [
    "from int_met import *"
   ]
  },
  {
   "cell_type": "code",
   "execution_count": 10,
   "metadata": {},
   "outputs": [],
   "source": [
    "import numpy as np\n",
    "from sklearn.ensemble import RandomForestClassifier\n",
    "from sklearn.tree import DecisionTreeClassifier\n",
    "model = RandomForestClassifier()\n",
    "#model=DecisionTreeClassifier()\n"
   ]
  },
  {
   "cell_type": "code",
   "execution_count": 11,
   "metadata": {},
   "outputs": [],
   "source": [
    "train_data = data[1:300,:]\n",
    "train_labels=y[1:300]\n",
    "test_data = data[301:505,:]\n",
    "test_labels=y[301:505]"
   ]
  },
  {
   "cell_type": "code",
   "execution_count": 12,
   "metadata": {},
   "outputs": [],
   "source": [
    "model = model.fit(train_data,y=train_labels)"
   ]
  },
  {
   "cell_type": "code",
   "execution_count": 13,
   "metadata": {},
   "outputs": [
    {
     "data": {
      "text/plain": [
       "array([0, 0, 0, 1, 1, 1, 0, 1, 0, 0, 0, 1, 1, 0, 1, 1, 0, 1, 0, 0, 0, 1,\n",
       "       1, 1, 1, 0, 1, 0, 0, 1, 1, 0, 0, 0, 1, 0, 0, 0, 1, 0, 0, 1, 1, 0,\n",
       "       0, 1, 0, 1, 1, 0, 0, 1, 0, 0, 0, 1, 0, 0, 0, 1, 0, 0, 0, 0, 0, 0,\n",
       "       1, 1, 1, 1, 0, 0, 1, 0, 0, 1, 1, 0, 0, 0, 0, 0, 0, 1, 0, 1, 1, 0,\n",
       "       1, 0, 1, 1, 0, 0, 0, 0, 0, 0, 1, 0, 0, 1, 0, 1, 0, 0, 1, 0, 1, 1,\n",
       "       1, 0, 0, 1, 0, 1, 0, 1, 0, 0, 0, 1, 0, 0, 0, 0, 0, 1, 1, 0, 0, 1,\n",
       "       0, 1, 1, 0, 1, 0, 1, 1, 0, 0, 1, 1, 0, 1, 0, 1, 0, 0, 0, 1, 1, 1,\n",
       "       1, 1, 0, 1, 1, 0, 1, 1, 1, 0, 0, 1, 1, 0, 1, 1, 0, 0, 0, 1, 0, 1,\n",
       "       0, 0, 0, 0, 0, 1, 0, 1, 0, 0, 0, 0, 0, 1, 1, 1, 0, 0, 0, 0, 0, 0,\n",
       "       1, 1, 1, 1, 1, 1])"
      ]
     },
     "execution_count": 13,
     "metadata": {},
     "output_type": "execute_result"
    }
   ],
   "source": [
    "from sklearn.metrics import f1_score\n",
    "y_pred = model.predict(test_data)\n",
    "error = f1_score(test_labels,y_pred) \n",
    "error\n",
    "y_pred"
   ]
  },
  {
   "cell_type": "code",
   "execution_count": 14,
   "metadata": {},
   "outputs": [],
   "source": [
    "#necessary imports\n",
    "from pyBreakDown.explainer import Explainer\n",
    "from pyBreakDown.explanation import Explanation"
   ]
  },
  {
   "cell_type": "code",
   "execution_count": 18,
   "metadata": {},
   "outputs": [],
   "source": [
    "def run_PyBreakDown(model,data,observations,colnames):\n",
    "    explanations=[]\n",
    "    y=[]\n",
    "    from pyBreakDown.explainer import Explainer\n",
    "    from pyBreakDown.explanation import Explanation\n",
    "    from math import exp as e\n",
    "    exp = Explainer(clf=model, data=data, colnames=feature_names)\n",
    "    if observations.ndim==1:\n",
    "        explanation = exp.explain(observation=observations,direction=\"up\")\n",
    "        pred=explanation._final_prediction\n",
    "        pred=round((e(pred)/(1+e(pred))))\n",
    "        y.append(pred)\n",
    "        explanations.append(explanation)\n",
    "    else:\n",
    "        for i in range(0,len(observations)):\n",
    "            observation = observations[i]\n",
    "            explanation = exp.explain(observation=observation,direction=\"up\")\n",
    "            pred=explanation._final_prediction\n",
    "            pred=round((e(pred)/(1+e(pred))))\n",
    "            y.append(pred)\n",
    "            explanations.append(explanation)\n",
    "    return explanations,y"
   ]
  },
  {
   "cell_type": "code",
   "execution_count": 19,
   "metadata": {},
   "outputs": [],
   "source": [
    "def get_Coefs(explanations):\n",
    "    coefs=[]\n",
    "    for explanation in explanations:\n",
    "        coef=[]\n",
    "        for feature in explanation._attributes:\n",
    "            coef.append(feature.contribution)\n",
    "        coefs.append(coef)\n",
    "    return coefs"
   ]
  },
  {
   "cell_type": "code",
   "execution_count": 20,
   "metadata": {},
   "outputs": [],
   "source": [
    "explanations1,y1 = run_PyBreakDown(model=model,data=train_data,observations=data[500:569,:],colnames=feature_names)\n",
    "explanations2,y2 = run_PyBreakDown(model=model,data=train_data,observations=data[500:569,:],colnames=feature_names)"
   ]
  },
  {
   "cell_type": "code",
   "execution_count": 21,
   "metadata": {},
   "outputs": [],
   "source": [
    "coefs1 = get_Coefs(explanations1)\n",
    "coefs2 = get_Coefs(explanations2)\n",
    "y_test = y[500:569]\n",
    "X_test = data[500:569,:]"
   ]
  },
  {
   "cell_type": "code",
   "execution_count": 22,
   "metadata": {},
   "outputs": [
    {
     "data": {
      "text/plain": [
       "(0.0, 69, 69)"
      ]
     },
     "execution_count": 22,
     "metadata": {},
     "output_type": "execute_result"
    }
   ],
   "source": [
    "calc_identity(coefs1,coefs2)"
   ]
  },
  {
   "cell_type": "code",
   "execution_count": 23,
   "metadata": {},
   "outputs": [
    {
     "data": {
      "text/plain": [
       "(69, 4, 94.20289855072464)"
      ]
     },
     "execution_count": 23,
     "metadata": {},
     "output_type": "execute_result"
    }
   ],
   "source": [
    "calc_separability(X_test, coefs1)"
   ]
  },
  {
   "cell_type": "code",
   "execution_count": 24,
   "metadata": {},
   "outputs": [
    {
     "data": {
      "text/plain": [
       "0.4690382081686429"
      ]
     },
     "execution_count": 24,
     "metadata": {},
     "output_type": "execute_result"
    }
   ],
   "source": [
    "calc_compactness(coefs1)"
   ]
  },
  {
   "cell_type": "code",
   "execution_count": 25,
   "metadata": {},
   "outputs": [
    {
     "name": "stdout",
     "output_type": "stream",
     "text": [
      "Cluster -1 indexes_of_cluster [ 0  1  2  5  6  7  8  9 10 11 12 13 14 16 18 19 20 21 23 24 25 26 28 29\n",
      " 30 31 34 35 36 38 39 41 42 44 46 48 51 53 54 55 56 57 58 61 62 63 64 65\n",
      " 66 68]\n",
      "Cluster 0 indexes_of_cluster [ 3 17]\n",
      "Cluster 1 indexes_of_cluster [ 4 47]\n",
      "Cluster 2 indexes_of_cluster [15 32]\n",
      "Cluster 3 indexes_of_cluster [22 27 40]\n",
      "Cluster 4 indexes_of_cluster [33 37]\n",
      "Cluster 5 indexes_of_cluster [43 60]\n",
      "Cluster 6 indexes_of_cluster [45 67]\n",
      "Cluster 7 indexes_of_cluster [49 50]\n",
      "Cluster 8 indexes_of_cluster [52 59]\n"
     ]
    },
    {
     "data": {
      "text/plain": [
       "0.5406993210348141"
      ]
     },
     "execution_count": 25,
     "metadata": {},
     "output_type": "execute_result"
    }
   ],
   "source": [
    "def calc_similarity(coefs1,X_test):\n",
    "    from sklearn.preprocessing import normalize\n",
    "    from sklearn.cluster import DBSCAN\n",
    "    from sklearn.metrics.pairwise import euclidean_distances\n",
    "    from sklearn import preprocessing \n",
    "    import numpy as np\n",
    "    X_test = preprocessing.normalize(X_test, norm='l2')\n",
    "    coefs1 = preprocessing.normalize(coefs1, norm='l2')\n",
    "    clustering = DBSCAN(eps=0.02,min_samples=2).fit(X_test)\n",
    "    cluster_labels = clustering.labels_\n",
    "    unique_labels=np.unique(cluster_labels)\n",
    "    mean_distances=[]\n",
    "    for cluster in unique_labels:\n",
    "        indexes_of_cluster=np.where(cluster_labels == cluster)[0]\n",
    "        exps_of_cluster = [coefs1[i] for i in indexes_of_cluster] \n",
    "        mean_distances.append(np.average(euclidean_distances(exps_of_cluster)))\n",
    "        \n",
    "    return np.average(mean_distances)\n",
    "        \n",
    "calc_similarity(coefs1,X_test)"
   ]
  },
  {
   "cell_type": "code",
   "execution_count": null,
   "metadata": {},
   "outputs": [],
   "source": []
  },
  {
   "cell_type": "code",
   "execution_count": null,
   "metadata": {},
   "outputs": [],
   "source": []
  },
  {
   "cell_type": "code",
   "execution_count": null,
   "metadata": {},
   "outputs": [],
   "source": []
  }
 ],
 "metadata": {
  "kernelspec": {
   "display_name": "Python 3",
   "language": "python",
   "name": "python3"
  },
  "language_info": {
   "codemirror_mode": {
    "name": "ipython",
    "version": 3
   },
   "file_extension": ".py",
   "mimetype": "text/x-python",
   "name": "python",
   "nbconvert_exporter": "python",
   "pygments_lexer": "ipython3",
   "version": "3.8.2"
  }
 },
 "nbformat": 4,
 "nbformat_minor": 4
}
