{
 "cells": [
  {
   "cell_type": "code",
   "execution_count": 1,
   "metadata": {},
   "outputs": [],
   "source": [
    "import pandas as pd\n",
    "\n",
    "\n"
   ]
  },
  {
   "cell_type": "code",
   "execution_count": 50,
   "metadata": {},
   "outputs": [
    {
     "data": {
      "text/html": [
       "<div>\n",
       "<style scoped>\n",
       "    .dataframe tbody tr th:only-of-type {\n",
       "        vertical-align: middle;\n",
       "    }\n",
       "\n",
       "    .dataframe tbody tr th {\n",
       "        vertical-align: top;\n",
       "    }\n",
       "\n",
       "    .dataframe thead th {\n",
       "        text-align: right;\n",
       "    }\n",
       "</style>\n",
       "<table border=\"1\" class=\"dataframe\">\n",
       "  <thead>\n",
       "    <tr style=\"text-align: right;\">\n",
       "      <th></th>\n",
       "      <th>age</th>\n",
       "      <th>mets_achieved</th>\n",
       "      <th>resting_systolic</th>\n",
       "      <th>resting_diastolic</th>\n",
       "      <th>percent_hr_achieved</th>\n",
       "      <th>hyperlipid</th>\n",
       "      <th>famhx</th>\n",
       "      <th>black</th>\n",
       "      <th>newdm10</th>\n",
       "    </tr>\n",
       "  </thead>\n",
       "  <tbody>\n",
       "    <tr>\n",
       "      <th>0</th>\n",
       "      <td>61.051334</td>\n",
       "      <td>5.0</td>\n",
       "      <td>132</td>\n",
       "      <td>84</td>\n",
       "      <td>0.805031</td>\n",
       "      <td>No</td>\n",
       "      <td>No</td>\n",
       "      <td>0</td>\n",
       "      <td>1</td>\n",
       "    </tr>\n",
       "    <tr>\n",
       "      <th>1</th>\n",
       "      <td>58.888432</td>\n",
       "      <td>5.0</td>\n",
       "      <td>138</td>\n",
       "      <td>80</td>\n",
       "      <td>0.937888</td>\n",
       "      <td>No</td>\n",
       "      <td>Yes</td>\n",
       "      <td>1</td>\n",
       "      <td>1</td>\n",
       "    </tr>\n",
       "    <tr>\n",
       "      <th>2</th>\n",
       "      <td>44.646133</td>\n",
       "      <td>10.1</td>\n",
       "      <td>100</td>\n",
       "      <td>74</td>\n",
       "      <td>0.954286</td>\n",
       "      <td>Yes</td>\n",
       "      <td>Yes</td>\n",
       "      <td>0</td>\n",
       "      <td>1</td>\n",
       "    </tr>\n",
       "    <tr>\n",
       "      <th>3</th>\n",
       "      <td>67.548256</td>\n",
       "      <td>7.0</td>\n",
       "      <td>150</td>\n",
       "      <td>90</td>\n",
       "      <td>0.842105</td>\n",
       "      <td>Yes</td>\n",
       "      <td>No</td>\n",
       "      <td>0</td>\n",
       "      <td>1</td>\n",
       "    </tr>\n",
       "    <tr>\n",
       "      <th>4</th>\n",
       "      <td>42.967831</td>\n",
       "      <td>7.0</td>\n",
       "      <td>110</td>\n",
       "      <td>80</td>\n",
       "      <td>0.903955</td>\n",
       "      <td>No</td>\n",
       "      <td>Yes</td>\n",
       "      <td>0</td>\n",
       "      <td>0</td>\n",
       "    </tr>\n",
       "    <tr>\n",
       "      <th>...</th>\n",
       "      <td>...</td>\n",
       "      <td>...</td>\n",
       "      <td>...</td>\n",
       "      <td>...</td>\n",
       "      <td>...</td>\n",
       "      <td>...</td>\n",
       "      <td>...</td>\n",
       "      <td>...</td>\n",
       "      <td>...</td>\n",
       "    </tr>\n",
       "    <tr>\n",
       "      <th>16771</th>\n",
       "      <td>40.626968</td>\n",
       "      <td>10.1</td>\n",
       "      <td>110</td>\n",
       "      <td>70</td>\n",
       "      <td>0.921788</td>\n",
       "      <td>No</td>\n",
       "      <td>No</td>\n",
       "      <td>0</td>\n",
       "      <td>0</td>\n",
       "    </tr>\n",
       "    <tr>\n",
       "      <th>16772</th>\n",
       "      <td>52.273785</td>\n",
       "      <td>10.0</td>\n",
       "      <td>134</td>\n",
       "      <td>72</td>\n",
       "      <td>0.958333</td>\n",
       "      <td>Yes</td>\n",
       "      <td>No</td>\n",
       "      <td>0</td>\n",
       "      <td>1</td>\n",
       "    </tr>\n",
       "    <tr>\n",
       "      <th>16773</th>\n",
       "      <td>43.225189</td>\n",
       "      <td>10.1</td>\n",
       "      <td>136</td>\n",
       "      <td>84</td>\n",
       "      <td>0.988701</td>\n",
       "      <td>No</td>\n",
       "      <td>Yes</td>\n",
       "      <td>0</td>\n",
       "      <td>0</td>\n",
       "    </tr>\n",
       "    <tr>\n",
       "      <th>16774</th>\n",
       "      <td>37.681042</td>\n",
       "      <td>10.1</td>\n",
       "      <td>98</td>\n",
       "      <td>82</td>\n",
       "      <td>0.939560</td>\n",
       "      <td>No</td>\n",
       "      <td>No</td>\n",
       "      <td>0</td>\n",
       "      <td>0</td>\n",
       "    </tr>\n",
       "    <tr>\n",
       "      <th>16775</th>\n",
       "      <td>46.551678</td>\n",
       "      <td>7.0</td>\n",
       "      <td>146</td>\n",
       "      <td>98</td>\n",
       "      <td>0.919075</td>\n",
       "      <td>No</td>\n",
       "      <td>Yes</td>\n",
       "      <td>0</td>\n",
       "      <td>0</td>\n",
       "    </tr>\n",
       "  </tbody>\n",
       "</table>\n",
       "<p>16776 rows × 9 columns</p>\n",
       "</div>"
      ],
      "text/plain": [
       "             age  mets_achieved  resting_systolic  resting_diastolic  \\\n",
       "0      61.051334            5.0               132                 84   \n",
       "1      58.888432            5.0               138                 80   \n",
       "2      44.646133           10.1               100                 74   \n",
       "3      67.548256            7.0               150                 90   \n",
       "4      42.967831            7.0               110                 80   \n",
       "...          ...            ...               ...                ...   \n",
       "16771  40.626968           10.1               110                 70   \n",
       "16772  52.273785           10.0               134                 72   \n",
       "16773  43.225189           10.1               136                 84   \n",
       "16774  37.681042           10.1                98                 82   \n",
       "16775  46.551678            7.0               146                 98   \n",
       "\n",
       "       percent_hr_achieved hyperlipid famhx  black  newdm10  \n",
       "0                 0.805031         No    No      0        1  \n",
       "1                 0.937888         No   Yes      1        1  \n",
       "2                 0.954286        Yes   Yes      0        1  \n",
       "3                 0.842105        Yes    No      0        1  \n",
       "4                 0.903955         No   Yes      0        0  \n",
       "...                    ...        ...   ...    ...      ...  \n",
       "16771             0.921788         No    No      0        0  \n",
       "16772             0.958333        Yes    No      0        1  \n",
       "16773             0.988701         No   Yes      0        0  \n",
       "16774             0.939560         No    No      0        0  \n",
       "16775             0.919075         No   Yes      0        0  \n",
       "\n",
       "[16776 rows x 9 columns]"
      ]
     },
     "execution_count": 50,
     "metadata": {},
     "output_type": "execute_result"
    }
   ],
   "source": [
    "datas = pd.read_csv('DiabetesCleaned.csv', sep=None,engine='python')\n",
    "datas"
   ]
  },
  {
   "cell_type": "code",
   "execution_count": 7,
   "metadata": {},
   "outputs": [],
   "source": [
    "def load_in_sklearn_format(filename,target_name):\n",
    "    from bunch import Bunch\n",
    "    import pandas as pd\n",
    "    dataset = pd.read_csv(filename, sep=None,engine='python')\n",
    "    dataset = pd.read_csv(filename, sep=None,engine='python')\n",
    "    object_columns = dataset.select_dtypes(include='object')\n",
    "    for column in object_columns :\n",
    "        dataset[column] = dataset[column].astype('category')\n",
    "    dataset=pd.get_dummies(dataset)\n",
    "    feature_names = dataset.columns.values.tolist()\n",
    "    feature_names.remove(target_name)\n",
    "    data = dataset[feature_names].to_numpy()\n",
    "    target = dataset[target_name].to_numpy()\n",
    "    \n",
    "    \n",
    "    return Bunch(data=data, target=target, feature_names = feature_names, target_names = target_name)\n"
   ]
  },
  {
   "cell_type": "code",
   "execution_count": 8,
   "metadata": {},
   "outputs": [],
   "source": [
    "dataset=load_in_sklearn_format('DiabetesCleaned.csv','newdm10')"
   ]
  },
  {
   "cell_type": "code",
   "execution_count": 11,
   "metadata": {},
   "outputs": [],
   "source": [
    "data = dataset.data\n",
    "feature_names = dataset.feature_names\n",
    "y = dataset.target"
   ]
  },
  {
   "cell_type": "code",
   "execution_count": 12,
   "metadata": {},
   "outputs": [],
   "source": [
    "from int_met import *"
   ]
  },
  {
   "cell_type": "code",
   "execution_count": 13,
   "metadata": {},
   "outputs": [],
   "source": [
    "import numpy as np\n",
    "from sklearn.ensemble import RandomForestClassifier\n",
    "from sklearn.tree import DecisionTreeClassifier\n",
    "model = RandomForestClassifier()"
   ]
  },
  {
   "cell_type": "code",
   "execution_count": 14,
   "metadata": {},
   "outputs": [],
   "source": [
    "train_data = data[1:300,:]\n",
    "train_labels=y[1:300]\n",
    "test_data = data[301:505,:]\n",
    "test_labels=y[301:505]"
   ]
  },
  {
   "cell_type": "code",
   "execution_count": 15,
   "metadata": {},
   "outputs": [],
   "source": [
    "model = model.fit(train_data,y=train_labels)"
   ]
  },
  {
   "cell_type": "code",
   "execution_count": 16,
   "metadata": {},
   "outputs": [
    {
     "data": {
      "text/plain": [
       "array([0, 1, 0, 1, 1, 1, 0, 0, 0, 0, 0, 1, 1, 0, 1, 1, 0, 1, 0, 1, 1, 1,\n",
       "       1, 1, 0, 0, 1, 1, 0, 1, 1, 0, 0, 0, 1, 0, 0, 0, 1, 0, 1, 1, 1, 0,\n",
       "       0, 1, 0, 1, 1, 0, 1, 1, 0, 1, 0, 1, 0, 0, 0, 1, 0, 0, 0, 0, 0, 0,\n",
       "       1, 1, 1, 1, 0, 0, 1, 1, 0, 0, 1, 0, 0, 0, 0, 0, 1, 1, 0, 1, 1, 0,\n",
       "       1, 0, 1, 1, 0, 0, 0, 0, 0, 0, 1, 1, 0, 1, 0, 1, 0, 0, 1, 0, 1, 1,\n",
       "       1, 0, 0, 1, 0, 1, 0, 1, 0, 0, 0, 1, 0, 0, 0, 0, 0, 1, 1, 0, 0, 1,\n",
       "       0, 1, 1, 0, 1, 1, 1, 1, 0, 1, 1, 1, 0, 1, 0, 1, 0, 0, 0, 1, 1, 1,\n",
       "       1, 1, 1, 1, 1, 0, 1, 1, 1, 0, 0, 1, 1, 0, 1, 1, 0, 0, 0, 1, 0, 1,\n",
       "       0, 1, 0, 0, 0, 1, 0, 1, 0, 0, 0, 0, 1, 1, 1, 1, 0, 0, 0, 0, 0, 0,\n",
       "       1, 1, 1, 1, 1, 1])"
      ]
     },
     "execution_count": 16,
     "metadata": {},
     "output_type": "execute_result"
    }
   ],
   "source": [
    "from sklearn.metrics import f1_score\n",
    "y_pred = model.predict(test_data)\n",
    "error = f1_score(test_labels,y_pred) \n",
    "error\n",
    "y_pred"
   ]
  },
  {
   "cell_type": "code",
   "execution_count": 17,
   "metadata": {},
   "outputs": [],
   "source": [
    "#necessary imports\n",
    "from pyBreakDown.explainer import Explainer\n",
    "from pyBreakDown.explanation import Explanation"
   ]
  },
  {
   "cell_type": "code",
   "execution_count": 18,
   "metadata": {},
   "outputs": [],
   "source": [
    "def run_PyBreakDown(model,data,observations,colnames):\n",
    "    explanations=[]\n",
    "    y=[]\n",
    "    from pyBreakDown.explainer import Explainer\n",
    "    from pyBreakDown.explanation import Explanation\n",
    "    from math import exp as e\n",
    "    exp = Explainer(clf=model, data=data, colnames=feature_names)\n",
    "    if observations.ndim==1:\n",
    "        explanation = exp.explain(observation=observations,direction=\"up\")\n",
    "        pred=explanation._final_prediction\n",
    "        pred=round((e(pred)/(1+e(pred))))\n",
    "        y.append(pred)\n",
    "        explanations.append(explanation)\n",
    "    else:\n",
    "        for i in range(0,len(observations)):\n",
    "            observation = observations[i]\n",
    "            explanation = exp.explain(observation=observation,direction=\"up\")\n",
    "            pred=explanation._final_prediction\n",
    "            pred=round((e(pred)/(1+e(pred))))\n",
    "            y.append(pred)\n",
    "            explanations.append(explanation)\n",
    "    return explanations,y"
   ]
  },
  {
   "cell_type": "code",
   "execution_count": 19,
   "metadata": {},
   "outputs": [],
   "source": [
    "def get_Coefs(explanations):\n",
    "    coefs=[]\n",
    "    for explanation in explanations:\n",
    "        coef=[]\n",
    "        for feature in explanation._attributes:\n",
    "            coef.append(feature.contribution)\n",
    "        coefs.append(coef)\n",
    "    return coefs"
   ]
  },
  {
   "cell_type": "code",
   "execution_count": 20,
   "metadata": {},
   "outputs": [],
   "source": [
    "explanations1,y1 = run_PyBreakDown(model=model,data=train_data,observations=data[500:569,:],colnames=feature_names)\n",
    "explanations2,y2 = run_PyBreakDown(model=model,data=train_data,observations=data[500:569,:],colnames=feature_names)"
   ]
  },
  {
   "cell_type": "code",
   "execution_count": 21,
   "metadata": {},
   "outputs": [],
   "source": [
    "coefs1 = get_Coefs(explanations1)\n",
    "coefs2 = get_Coefs(explanations2)\n",
    "y_test = y[500:569]\n",
    "X_test = data[500:569,:]"
   ]
  },
  {
   "cell_type": "code",
   "execution_count": 22,
   "metadata": {},
   "outputs": [
    {
     "data": {
      "text/plain": [
       "(0.0, 69, 69)"
      ]
     },
     "execution_count": 22,
     "metadata": {},
     "output_type": "execute_result"
    }
   ],
   "source": [
    "calc_identity(coefs1,coefs2)"
   ]
  },
  {
   "cell_type": "code",
   "execution_count": 23,
   "metadata": {},
   "outputs": [
    {
     "data": {
      "text/plain": [
       "(69, 8, 88.40579710144928)"
      ]
     },
     "execution_count": 23,
     "metadata": {},
     "output_type": "execute_result"
    }
   ],
   "source": [
    "calc_separability(X_test, coefs1)"
   ]
  },
  {
   "cell_type": "code",
   "execution_count": 24,
   "metadata": {},
   "outputs": [
    {
     "data": {
      "text/plain": [
       "0.4914361001317524"
      ]
     },
     "execution_count": 24,
     "metadata": {},
     "output_type": "execute_result"
    }
   ],
   "source": [
    "calc_compactness(coefs1)"
   ]
  },
  {
   "cell_type": "code",
   "execution_count": 25,
   "metadata": {},
   "outputs": [
    {
     "data": {
      "text/plain": [
       "0.5840031079527622"
      ]
     },
     "execution_count": 25,
     "metadata": {},
     "output_type": "execute_result"
    }
   ],
   "source": [
    "calc_similarity(coefs1,X_test)"
   ]
  },
  {
   "cell_type": "code",
   "execution_count": 28,
   "metadata": {},
   "outputs": [
    {
     "name": "stderr",
     "output_type": "stream",
     "text": [
      "<ipython-input-26-57cbd9861d72>:10: RuntimeWarning: Explicit initial center position passed: performing only one init in k-means instead of n_init=10\n",
      "  ct.fit(exp)\n"
     ]
    },
    {
     "data": {
      "text/plain": [
       "(22, 69)"
      ]
     },
     "execution_count": 28,
     "metadata": {},
     "output_type": "execute_result"
    }
   ],
   "source": [
    "calc_stability(coefs1, y_test)"
   ]
  },
  {
   "cell_type": "code",
   "execution_count": 101,
   "metadata": {},
   "outputs": [],
   "source": [
    "def calc_correctness(exps, labels, true_labels) :\n",
    "    incorrect = 0\n",
    "    import numpy as np\n",
    "    exps=np.asarray(exps)\n",
    "    labels=np.asarray(labels)\n",
    "    total = labels.shape[0]\n",
    "    label_values = np.unique(labels)\n",
    "    unique_exps = np.unique(exps, axis=0)\n",
    "    correct_exps = exps[(np.where(y1==y_test)[0])]\n",
    "    unique_exps = np.unique(correct_exps, axis=0)\n",
    "    similar_exps = [] \n",
    "    for exp in unique_exps:\n",
    "        indexes_of_exp = np.where((exps == exp).all(axis=1))[0]\n",
    "        for j in indexes_of_exp:\n",
    "            if (labels[j] != labels[indexes_of_exp[0]]):\n",
    "                incorrect += 1\n",
    "    return (len(unique_exps)-incorrect)/(len(unique_exps))"
   ]
  },
  {
   "cell_type": "code",
   "execution_count": 66,
   "metadata": {},
   "outputs": [
    {
     "data": {
      "text/plain": [
       "array([ 1,  2,  3,  4,  5,  6,  7,  8, 10, 11, 12, 13, 16, 18, 19, 22, 23,\n",
       "       24, 27, 28, 29, 31, 32, 34, 35, 36, 37, 39, 41, 42, 44, 45, 46, 47,\n",
       "       48, 49, 51, 54, 56, 57, 58, 59, 60, 63, 64, 67, 68])"
      ]
     },
     "execution_count": 66,
     "metadata": {},
     "output_type": "execute_result"
    }
   ],
   "source": [
    "(np.where(y1==y_test)[0])"
   ]
  },
  {
   "cell_type": "code",
   "execution_count": null,
   "metadata": {},
   "outputs": [],
   "source": []
  },
  {
   "cell_type": "code",
   "execution_count": 54,
   "metadata": {},
   "outputs": [
    {
     "data": {
      "text/plain": [
       "array([False,  True,  True,  True,  True,  True,  True,  True,  True,\n",
       "       False,  True,  True,  True,  True, False, False,  True, False,\n",
       "        True,  True, False, False,  True,  True,  True, False, False,\n",
       "        True,  True,  True, False,  True,  True, False,  True,  True,\n",
       "        True,  True, False,  True, False,  True,  True, False,  True,\n",
       "        True,  True,  True,  True,  True, False,  True, False, False,\n",
       "        True, False,  True,  True,  True,  True,  True, False, False,\n",
       "        True,  True, False, False,  True,  True])"
      ]
     },
     "execution_count": 54,
     "metadata": {},
     "output_type": "execute_result"
    }
   ],
   "source": [
    "y1==y_test"
   ]
  },
  {
   "cell_type": "code",
   "execution_count": null,
   "metadata": {},
   "outputs": [],
   "source": []
  }
 ],
 "metadata": {
  "kernelspec": {
   "display_name": "Python 3",
   "language": "python",
   "name": "python3"
  },
  "language_info": {
   "codemirror_mode": {
    "name": "ipython",
    "version": 3
   },
   "file_extension": ".py",
   "mimetype": "text/x-python",
   "name": "python",
   "nbconvert_exporter": "python",
   "pygments_lexer": "ipython3",
   "version": "3.8.2"
  }
 },
 "nbformat": 4,
 "nbformat_minor": 4
}
